{
 "cells": [
  {
   "cell_type": "code",
   "execution_count": 59,
   "id": "ed646e90",
   "metadata": {},
   "outputs": [],
   "source": [
    "# First Import the Pandas and Numpy Packages\n",
    "\n",
    "import pandas as pd\n",
    "import numpy as np"
   ]
  },
  {
   "cell_type": "code",
   "execution_count": 341,
   "id": "a44efb5c",
   "metadata": {},
   "outputs": [
    {
     "data": {
      "text/html": [
       "<div>\n",
       "<style scoped>\n",
       "    .dataframe tbody tr th:only-of-type {\n",
       "        vertical-align: middle;\n",
       "    }\n",
       "\n",
       "    .dataframe tbody tr th {\n",
       "        vertical-align: top;\n",
       "    }\n",
       "\n",
       "    .dataframe thead th {\n",
       "        text-align: right;\n",
       "    }\n",
       "</style>\n",
       "<table border=\"1\" class=\"dataframe\">\n",
       "  <thead>\n",
       "    <tr style=\"text-align: right;\">\n",
       "      <th></th>\n",
       "      <th>Date</th>\n",
       "      <th>Rate</th>\n",
       "      <th>Votes</th>\n",
       "      <th>Genre</th>\n",
       "      <th>Duration</th>\n",
       "      <th>Type</th>\n",
       "      <th>Certificate</th>\n",
       "      <th>Episodes</th>\n",
       "      <th>Nudity</th>\n",
       "      <th>Violence</th>\n",
       "      <th>Profanity</th>\n",
       "      <th>Alcohol</th>\n",
       "      <th>Frightening</th>\n",
       "    </tr>\n",
       "    <tr>\n",
       "      <th>Name</th>\n",
       "      <th></th>\n",
       "      <th></th>\n",
       "      <th></th>\n",
       "      <th></th>\n",
       "      <th></th>\n",
       "      <th></th>\n",
       "      <th></th>\n",
       "      <th></th>\n",
       "      <th></th>\n",
       "      <th></th>\n",
       "      <th></th>\n",
       "      <th></th>\n",
       "      <th></th>\n",
       "    </tr>\n",
       "  </thead>\n",
       "  <tbody>\n",
       "    <tr>\n",
       "      <th>No Time to Die</th>\n",
       "      <td>2021</td>\n",
       "      <td>7.6</td>\n",
       "      <td>107,163</td>\n",
       "      <td>Action, Adventure, Thriller</td>\n",
       "      <td>163</td>\n",
       "      <td>Film</td>\n",
       "      <td>PG-13</td>\n",
       "      <td>-</td>\n",
       "      <td>Mild</td>\n",
       "      <td>Moderate</td>\n",
       "      <td>Mild</td>\n",
       "      <td>Mild</td>\n",
       "      <td>Moderate</td>\n",
       "    </tr>\n",
       "    <tr>\n",
       "      <th>The Guilty</th>\n",
       "      <td>2021</td>\n",
       "      <td>6.3</td>\n",
       "      <td>64,375</td>\n",
       "      <td>Crime, Drama, Thriller</td>\n",
       "      <td>90</td>\n",
       "      <td>Film</td>\n",
       "      <td>R</td>\n",
       "      <td>-</td>\n",
       "      <td>None</td>\n",
       "      <td>None</td>\n",
       "      <td>Severe</td>\n",
       "      <td>None</td>\n",
       "      <td>Moderate</td>\n",
       "    </tr>\n",
       "    <tr>\n",
       "      <th>The Many Saints of Newark</th>\n",
       "      <td>2021</td>\n",
       "      <td>6.4</td>\n",
       "      <td>27,145</td>\n",
       "      <td>Crime, Drama</td>\n",
       "      <td>120</td>\n",
       "      <td>Film</td>\n",
       "      <td>R</td>\n",
       "      <td>-</td>\n",
       "      <td>Moderate</td>\n",
       "      <td>Severe</td>\n",
       "      <td>Severe</td>\n",
       "      <td>Moderate</td>\n",
       "      <td>Moderate</td>\n",
       "    </tr>\n",
       "    <tr>\n",
       "      <th>Venom: Let There Be Carnage</th>\n",
       "      <td>2021</td>\n",
       "      <td>6.4</td>\n",
       "      <td>30,443</td>\n",
       "      <td>Action, Adventure, Sci-Fi</td>\n",
       "      <td>97</td>\n",
       "      <td>Film</td>\n",
       "      <td>PG-13</td>\n",
       "      <td>-</td>\n",
       "      <td>None</td>\n",
       "      <td>Moderate</td>\n",
       "      <td>Moderate</td>\n",
       "      <td>Mild</td>\n",
       "      <td>Moderate</td>\n",
       "    </tr>\n",
       "    <tr>\n",
       "      <th>Dune</th>\n",
       "      <td>2021</td>\n",
       "      <td>8.3</td>\n",
       "      <td>84,636</td>\n",
       "      <td>Action, Adventure, Drama</td>\n",
       "      <td>155</td>\n",
       "      <td>Film</td>\n",
       "      <td>PG-13</td>\n",
       "      <td>-</td>\n",
       "      <td>None</td>\n",
       "      <td>Moderate</td>\n",
       "      <td>None</td>\n",
       "      <td>Mild</td>\n",
       "      <td>Moderate</td>\n",
       "    </tr>\n",
       "  </tbody>\n",
       "</table>\n",
       "</div>"
      ],
      "text/plain": [
       "                             Date Rate    Votes                        Genre  \\\n",
       "Name                                                                           \n",
       "No Time to Die               2021  7.6  107,163  Action, Adventure, Thriller   \n",
       "The Guilty                   2021  6.3   64,375       Crime, Drama, Thriller   \n",
       "The Many Saints of Newark    2021  6.4   27,145                 Crime, Drama   \n",
       "Venom: Let There Be Carnage  2021  6.4   30,443    Action, Adventure, Sci-Fi   \n",
       "Dune                         2021  8.3   84,636     Action, Adventure, Drama   \n",
       "\n",
       "                            Duration  Type Certificate Episodes    Nudity  \\\n",
       "Name                                                                        \n",
       "No Time to Die                  163   Film       PG-13        -      Mild   \n",
       "The Guilty                       90   Film           R        -      None   \n",
       "The Many Saints of Newark       120   Film           R        -  Moderate   \n",
       "Venom: Let There Be Carnage      97   Film       PG-13        -      None   \n",
       "Dune                            155   Film       PG-13        -      None   \n",
       "\n",
       "                             Violence Profanity   Alcohol Frightening  \n",
       "Name                                                                   \n",
       "No Time to Die               Moderate      Mild      Mild    Moderate  \n",
       "The Guilty                       None    Severe      None    Moderate  \n",
       "The Many Saints of Newark      Severe    Severe  Moderate    Moderate  \n",
       "Venom: Let There Be Carnage  Moderate  Moderate      Mild    Moderate  \n",
       "Dune                         Moderate      None      Mild    Moderate  "
      ]
     },
     "execution_count": 341,
     "metadata": {},
     "output_type": "execute_result"
    }
   ],
   "source": [
    "#Import the imdb dataset and check the first five rows\n",
    "\n",
    "imdb_source = pd.read_csv(r'C:\\Users\\MLeif\\data_science_practice\\datasets\\imdb\\imdb.csv').set_index('Name')\n",
    "imdb_source.head()"
   ]
  },
  {
   "cell_type": "code",
   "execution_count": 342,
   "id": "629bf5ef",
   "metadata": {},
   "outputs": [
    {
     "data": {
      "text/plain": [
       "(6178, 13)"
      ]
     },
     "execution_count": 342,
     "metadata": {},
     "output_type": "execute_result"
    }
   ],
   "source": [
    "# Look at the number of Rows and Columns in the Data, to help verify the data later\n",
    "\n",
    "imdb_source.shape"
   ]
  },
  {
   "cell_type": "code",
   "execution_count": 343,
   "id": "875aba11",
   "metadata": {},
   "outputs": [
    {
     "data": {
      "text/plain": [
       "Date            int64\n",
       "Rate           object\n",
       "Votes          object\n",
       "Genre          object\n",
       "Duration       object\n",
       "Type           object\n",
       "Certificate    object\n",
       "Episodes       object\n",
       "Nudity         object\n",
       "Violence       object\n",
       "Profanity      object\n",
       "Alcohol        object\n",
       "Frightening    object\n",
       "dtype: object"
      ]
     },
     "execution_count": 343,
     "metadata": {},
     "output_type": "execute_result"
    }
   ],
   "source": [
    "# Check that all of the Data Types Imported Correctly\n",
    "\n",
    "imdb_source.dtypes\n",
    "\n",
    "#Duration, Votes and Rate do Not Have the Correct Data Type, so that needs to be fixed"
   ]
  },
  {
   "cell_type": "code",
   "execution_count": 344,
   "id": "a048e9be",
   "metadata": {},
   "outputs": [
    {
     "data": {
      "text/plain": [
       "Date           0\n",
       "Rate           0\n",
       "Votes          0\n",
       "Genre          0\n",
       "Duration       0\n",
       "Type           0\n",
       "Certificate    0\n",
       "Episodes       0\n",
       "Nudity         0\n",
       "Violence       0\n",
       "Profanity      0\n",
       "Alcohol        0\n",
       "Frightening    0\n",
       "dtype: int64"
      ]
     },
     "execution_count": 344,
     "metadata": {},
     "output_type": "execute_result"
    }
   ],
   "source": [
    "# Thankfully it does not appear we have missing values directly in the source data\n",
    "\n",
    "imdb_source.isnull().sum()"
   ]
  },
  {
   "cell_type": "code",
   "execution_count": 345,
   "id": "53fdb207",
   "metadata": {},
   "outputs": [
    {
     "name": "stdout",
     "output_type": "stream",
     "text": [
      "Total Rate Strings Before: 185\n",
      "Total Duration Strings Before: 301\n",
      "Total Episodes Strings Before: 4446\n",
      "Total Rate Nulls After: 185\n",
      "Total Duration Nulls After: 301\n",
      "Total Episodes Nulls After: 4446\n"
     ]
    }
   ],
   "source": [
    "#The Rate, Episodes and Duration columns use strings for missing values. \n",
    "#We need to change these to null so we can change the datatype\n",
    "\n",
    "print(\"Total Rate Strings Before: \" + str(imdb_source[imdb_source['Rate'] == 'No Rate']['Rate'].count()))\n",
    "print(\"Total Duration Strings Before: \" + str(imdb_source[imdb_source['Duration'] == 'None']['Duration'].count()))\n",
    "print(\"Total Episodes Strings Before: \" + str(imdb_source[imdb_source['Episodes'] == '-']['Episodes'].count()))\n",
    "\n",
    "imdb_source.loc[imdb_source['Rate'] == 'No Rate', 'Rate'] = np.nan\n",
    "imdb_source.loc[imdb_source['Duration'] == 'None', 'Duration'] = np.nan\n",
    "imdb_source.loc[imdb_source['Episodes'] == '-', 'Episodes'] = np.nan\n",
    "\n",
    "print(\"Total Rate Nulls After: \" + str( imdb_source['Rate'].isnull().sum()))\n",
    "print(\"Total Duration Nulls After: \" + str( imdb_source['Duration'].isnull().sum()))\n",
    "print(\"Total Episodes Nulls After: \" + str( imdb_source['Episodes'].isnull().sum()))"
   ]
  },
  {
   "cell_type": "code",
   "execution_count": 346,
   "id": "9df2c345",
   "metadata": {},
   "outputs": [
    {
     "name": "stdout",
     "output_type": "stream",
     "text": [
      "Total Votes Strings Before: 185\n",
      "Total vote Nulls After: 185\n",
      "Sample of Votes:\n",
      "Name\n",
      "The Fugitive            3696\n",
      "Rick and Morty        436882\n",
      "Into the Wild         595966\n",
      "Soylent Green          61303\n",
      "RuPaul's Drag Race     17543\n",
      "Name: Votes, dtype: object\n"
     ]
    }
   ],
   "source": [
    "#The votes column uses commas in the numbers which means they cannot be turned into numeric variables\n",
    "#It also uses strings for when the number of votes is 0, so that needs to be changed to 0 as well\n",
    "print(\"Total Votes Strings Before: \" + str(imdb_source[imdb_source['Votes'] == 'No Votes']['Votes'].count()))\n",
    "\n",
    "imdb_source.loc[imdb_source['Votes'] == 'No Votes', 'Votes'] = 0\n",
    "imdb_source['Votes'] = imdb_source['Votes'].str.replace(',','')\n",
    "\n",
    "print(\"Total vote Nulls After: \" + str(imdb_source['Votes'].isnull().sum()))\n",
    "print(\"Sample of Votes:\\n\" + str(imdb_source['Votes'].sample(5)))\n"
   ]
  },
  {
   "cell_type": "code",
   "execution_count": 354,
   "id": "8fed52b8",
   "metadata": {},
   "outputs": [
    {
     "name": "stdout",
     "output_type": "stream",
     "text": [
      "Rate        float64\n",
      "Votes       float64\n",
      "Duration    float64\n",
      "Episodes    float64\n",
      "dtype: object\n",
      "                                         Rate     Votes  Duration  Episodes\n",
      "Name                                                                       \n",
      "4400                                      NaN       NaN       NaN       7.0\n",
      "Friday the 13th Part VII: The New Blood   5.3   35105.0      88.0       NaN\n",
      "Exam                                      6.8  110417.0     101.0       NaN\n",
      "Burn Notice                               7.9   70896.0      44.0     111.0\n",
      "The Division                              NaN       NaN       NaN       NaN\n"
     ]
    }
   ],
   "source": [
    "# Set the Columns for Votes, Rate, Duration, and Episodes to floats\n",
    "\n",
    "imdb_source['Rate'] = imdb_source['Rate'].astype('float64')\n",
    "imdb_source['Votes'] = imdb_source['Votes'].astype('float64')\n",
    "imdb_source['Duration'] = imdb_source['Duration'].astype('float64')\n",
    "imdb_source['Episodes'] = imdb_source['Episodes'].astype('float64')\n",
    "\n",
    "print(imdb_source[['Rate','Votes','Duration','Episodes']].dtypes)\n",
    "print(imdb_source[['Rate','Votes','Duration','Episodes']].sample(5))\n"
   ]
  },
  {
   "cell_type": "code",
   "execution_count": 358,
   "id": "1bef69d7",
   "metadata": {},
   "outputs": [
    {
     "name": "stdout",
     "output_type": "stream",
     "text": [
      "List Certificate Categories Before: \n",
      "['PG-13' 'R' 'TV-MA' 'None' 'TV-14' 'TV-PG' 'PG' 'TV-G' '(Banned)'\n",
      " 'Not Rated' 'E' 'NC-17' 'TV-Y7' 'Unrated' 'Approved' 'G' 'TV-Y' 'Passed']\n",
      "List Certificate Categories After: \n",
      "['PG-13' 'R' 'TV-MA' 'None' 'TV-14' 'TV-PG' 'PG' 'TV-G' '(Banned)'\n",
      " 'Not Rated' 'E' 'NC-17' 'TV-Y7' 'Unrated' 'Approved' 'G' 'TV-Y' 'Passed']\n"
     ]
    }
   ],
   "source": [
    "# Recode some Age Ratings Which Represent the same Ratings\n",
    "\n",
    "null_cert_list = ['(Banned)','Approved','E','None','Not Rated','Passed','Unrated']\n",
    "\n",
    "print(\"List Certificate Categories Before: \\n\" + str(imdb_source['Certificate'].unique()))\n",
    "\n",
    "imdb_source.loc[imdb_source['Certificate'].isin(['X']), 'Certificate'] = 'NC-17'\n",
    "imdb_source.loc[imdb_source['Certificate'].isin(['M/PG','M','GP']), 'Certificate'] = 'PG'\n",
    "imdb_source.loc[imdb_source['Certificate'].isin(['TV-Y7-FV']), 'Certificate'] = 'TV-Y7'\n",
    "\n",
    "print(\"List Certificate Categories After: \\n\" + str(imdb_source['Certificate'].unique()))"
   ]
  },
  {
   "cell_type": "code",
   "execution_count": 359,
   "id": "c35149b2",
   "metadata": {},
   "outputs": [
    {
     "name": "stdout",
     "output_type": "stream",
     "text": [
      "                           certificate_type Certificate\n",
      "Name                                                   \n",
      "No Time to Die                         Film       PG-13\n",
      "The Guilty                             Film           R\n",
      "Ted Lasso                                TV       TV-MA\n",
      "House of the Dragon                     NaN        None\n",
      "What If...?                              TV       TV-14\n",
      "Seinfeld                                 TV       TV-PG\n",
      "The Addams Family 2                    Film          PG\n",
      "Ordinary Joe                             TV        TV-G\n",
      "Family Guy                              NaN    (Banned)\n",
      "Busanhaeng                              NaN   Not Rated\n",
      "Luca                                    NaN           E\n",
      "La vie d'Adèle                         Film       NC-17\n",
      "Avatar: The Last Airbender               TV       TV-Y7\n",
      "Requiem for a Dream                     NaN     Unrated\n",
      "12 Angry Men                            NaN    Approved\n",
      "Cars                                   Film           G\n",
      "SpongeBob SquarePants                    TV        TV-Y\n",
      "All About Eve                           NaN      Passed\n"
     ]
    }
   ],
   "source": [
    "# Here we are adding a new field to change define wether each rating is for TV or Film\n",
    "\n",
    "def calc_certificate_type(cert):\n",
    "    \n",
    "    if cert in null_cert_list:\n",
    "        return np.nan\n",
    "    elif 'TV' in cert:\n",
    "        return 'TV'\n",
    "    else:\n",
    "        return 'Film'\n",
    "    \n",
    "imdb_source['certificate_type'] = imdb_source['Certificate'].apply(lambda x: calc_certificate_type(x))\n",
    "\n",
    "print(imdb_source[['certificate_type','Certificate']].drop_duplicates())"
   ]
  },
  {
   "cell_type": "code",
   "execution_count": 360,
   "id": "a17d1e0f",
   "metadata": {},
   "outputs": [],
   "source": [
    "# Define what level of certification the rating is, in order to make the variable Ordinal\n",
    "\n",
    "def calc_certificate_ordinal(cert_cat):\n",
    "    \n",
    "    if (cert_cat == 'G') | (cert_cat == 'TV-Y'):\n",
    "        return 1\n",
    "    elif (cert_cat == 'PG') | (cert_cat == 'TV-Y7'):\n",
    "        return 2\n",
    "    elif (cert_cat == 'PG-13') | (cert_cat == 'TV-G'):\n",
    "        return 3\n",
    "    elif (cert_cat == 'R') | (cert_cat == 'TV-PG'):\n",
    "        return 4\n",
    "    elif (cert_cat == 'NC-17') | (cert_cat == 'TV-14'):\n",
    "        return 5\n",
    "    elif (cert_cat == 'TV-MA'):\n",
    "        return 6\n",
    "    else:\n",
    "        return np.nan\n",
    "    \n",
    "imdb_source['certificate_num'] = imdb_source['Certificate'].apply(lambda x: calc_certificate_ordinal(x))\n",
    "    \n",
    "#NOTE: Each of these Levels is not designed to be Equivelent between TV and Film, \n",
    "# this and the next UDF are the most efficient way to make the age ratings ordinal"
   ]
  },
  {
   "cell_type": "code",
   "execution_count": 361,
   "id": "75d14bcd",
   "metadata": {},
   "outputs": [
    {
     "name": "stdout",
     "output_type": "stream",
     "text": [
      "Total Rate Strings Before: 810\n",
      "Total Rate Nulls After: 810\n"
     ]
    }
   ],
   "source": [
    "# Change Missing or unclear values in ratings to null\n",
    "print(\"Total Rate Strings Before: \" + str(imdb_source[imdb_source['Certificate'].isin(null_cert_list)]['Certificate'].count()))\n",
    "\n",
    "imdb_source.loc[imdb_source['Certificate'].isin(null_cert_list), 'Certificate'] = np.nan\n",
    "\n",
    "print(\"Total Rate Nulls After: \" + str(imdb_source['Certificate'].isnull().sum()))"
   ]
  },
  {
   "cell_type": "code",
   "execution_count": 362,
   "id": "8c12864b",
   "metadata": {},
   "outputs": [],
   "source": [
    "# Recode certification sub-categories to be ordinal\n",
    "\n",
    "def recode_age_rating_category(cert_cat):\n",
    "    \n",
    "    if cert_cat == 'None':\n",
    "        return 0\n",
    "    elif cert_cat == 'Mild':\n",
    "        return 1\n",
    "    elif cert_cat == 'Moderate':\n",
    "        return 2\n",
    "    elif cert_cat == 'Severe':\n",
    "        return 3\n",
    "    else:\n",
    "        return np.nan\n",
    "    \n",
    "imdb_source['Nudity'] = imdb_source['Nudity'].apply(lambda x: recode_age_rating_category(x))\n",
    "imdb_source['Violence'] = imdb_source['Violence'].apply(lambda x: recode_age_rating_category(x))\n",
    "imdb_source['Profanity'] = imdb_source['Profanity'].apply(lambda x: recode_age_rating_category(x))\n",
    "imdb_source['Alcohol'] = imdb_source['Alcohol'].apply(lambda x: recode_age_rating_category(x))\n",
    "imdb_source['Frightening'] = imdb_source['Frightening'].apply(lambda x: recode_age_rating_category(x))\n"
   ]
  },
  {
   "cell_type": "code",
   "execution_count": 364,
   "id": "48f62b02",
   "metadata": {},
   "outputs": [],
   "source": [
    "#Trim and Lowercase all type and genre columns to standardize them\n",
    "\n",
    "imdb_source['Type'] = imdb_source['Type'].str.strip().str.lower()\n",
    "imdb_source['Genre'] = imdb_source['Genre'].str.strip().str.lower()\n"
   ]
  }
 ],
 "metadata": {
  "kernelspec": {
   "display_name": "Python 3",
   "language": "python",
   "name": "python3"
  },
  "language_info": {
   "codemirror_mode": {
    "name": "ipython",
    "version": 3
   },
   "file_extension": ".py",
   "mimetype": "text/x-python",
   "name": "python",
   "nbconvert_exporter": "python",
   "pygments_lexer": "ipython3",
   "version": "3.8.8"
  }
 },
 "nbformat": 4,
 "nbformat_minor": 5
}
